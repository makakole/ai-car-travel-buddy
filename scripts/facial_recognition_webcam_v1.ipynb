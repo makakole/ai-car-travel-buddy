{
 "cells": [
  {
   "cell_type": "code",
   "execution_count": 1,
   "metadata": {},
   "outputs": [],
   "source": [
    "import numpy as np\n",
    "import cv2\n",
    "import face_recognition"
   ]
  },
  {
   "cell_type": "code",
   "execution_count": 2,
   "metadata": {},
   "outputs": [],
   "source": [
    "detector= cv2.CascadeClassifier('../data/haarcascade_frontalface_alt.xml')"
   ]
  },
  {
   "cell_type": "code",
   "execution_count": 3,
   "metadata": {},
   "outputs": [],
   "source": [
    "# # Create a VideoCapture object and read from input file\n",
    "# # If the input is the camera, pass 0 instead of the video file name\n",
    "# cap = cv2.VideoCapture(0)\n",
    " \n",
    "# # Check if camera opened successfully\n",
    "# if (cap.isOpened()== False): \n",
    "#   print(\"Error opening video stream or file\")\n",
    " \n",
    "# # Read until video is completed\n",
    "# while(cap.isOpened()):\n",
    "#   # Capture frame-by-frame\n",
    "#   ret, frame = cap.read()\n",
    "#   if ret == True:\n",
    " \n",
    "#     # Display the resulting frame\n",
    "#     cv2.imshow('Frame',frame)\n",
    " \n",
    "#     # Press Q on keyboard to  exit\n",
    "#     if cv2.waitKey(25) & 0xFF == ord('q'):\n",
    "#       break\n",
    " \n",
    "#   # Break the loop\n",
    "#   else: \n",
    "#     break\n",
    " \n",
    "# # When everything done, release the video capture object\n",
    "# cap.release()\n",
    " \n",
    "# # Closes all the frames\n",
    "# cv2.destroyAllWindows()"
   ]
  },
  {
   "cell_type": "code",
   "execution_count": 4,
   "metadata": {},
   "outputs": [],
   "source": [
    "video_capture = cv2.VideoCapture(0)\n",
    "face_locations = []\n",
    "while True:\n",
    "    ret, frame = video_capture.read()\n",
    "    rgb_frame = frame[:, :, ::-1]\n",
    "    face_locations = face_recognition.face_locations(rgb_frame)\n",
    "    #Display the results\n",
    "    for top, right, bottom, left in face_locations:\n",
    "        cv2.rectangle(frame, (left, top), (right, bottom), (0, 0, 255), 2)\n",
    "        \n",
    "    cv2.imshow('Video', frame)\n",
    "    \n",
    "    if cv2.waitKey(1) & 0xFF == ord('q'):\n",
    "        break\n",
    "        \n",
    "video_capture.release()\n",
    "cv2.destroyAllWindows()\n",
    "    \n"
   ]
  },
  {
   "cell_type": "code",
   "execution_count": 5,
   "metadata": {},
   "outputs": [],
   "source": [
    "image = face_recognition.load_image_file(\"../data/test/test2.jpg\")\n",
    "face_encoding = face_recognition.face_encodings(image)[0]"
   ]
  },
  {
   "cell_type": "code",
   "execution_count": 6,
   "metadata": {},
   "outputs": [],
   "source": [
    "known_faces = [\n",
    "face_encoding,\n",
    "]"
   ]
  },
  {
   "cell_type": "code",
   "execution_count": 7,
   "metadata": {},
   "outputs": [],
   "source": [
    "# Initialize variables\n",
    "face_locations = []\n",
    "face_encodings = []\n",
    "face_names = []\n",
    "frame_number = 0"
   ]
  },
  {
   "cell_type": "code",
   "execution_count": null,
   "metadata": {},
   "outputs": [],
   "source": []
  },
  {
   "cell_type": "code",
   "execution_count": null,
   "metadata": {},
   "outputs": [],
   "source": []
  }
 ],
 "metadata": {
  "kernelspec": {
   "display_name": "Python 3",
   "language": "python",
   "name": "python3"
  },
  "language_info": {
   "codemirror_mode": {
    "name": "ipython",
    "version": 3
   },
   "file_extension": ".py",
   "mimetype": "text/x-python",
   "name": "python",
   "nbconvert_exporter": "python",
   "pygments_lexer": "ipython3",
   "version": "3.7.3"
  }
 },
 "nbformat": 4,
 "nbformat_minor": 2
}
