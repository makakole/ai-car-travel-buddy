{
 "cells": [
  {
   "cell_type": "code",
   "execution_count": 1,
   "metadata": {},
   "outputs": [
    {
     "name": "stdout",
     "output_type": "stream",
     "text": [
      "-----------------------Taking pictures----------------------\n",
      "--------------------Give some expressions---------------------\n"
     ]
    },
    {
     "ename": "FileNotFoundError",
     "evalue": "[Errno 2] No such file or directory: '../data/training/-f'",
     "output_type": "error",
     "traceback": [
      "\u001b[0;31m---------------------------------------------------------------------------\u001b[0m",
      "\u001b[0;31mFileNotFoundError\u001b[0m                         Traceback (most recent call last)",
      "\u001b[0;32m<ipython-input-1-b8189cb63a8c>\u001b[0m in \u001b[0;36m<module>\u001b[0;34m\u001b[0m\n\u001b[1;32m     30\u001b[0m         \u001b[0mface\u001b[0m \u001b[0;34m=\u001b[0m \u001b[0mgray\u001b[0m\u001b[0;34m[\u001b[0m\u001b[0my\u001b[0m\u001b[0;34m:\u001b[0m\u001b[0my\u001b[0m \u001b[0;34m+\u001b[0m \u001b[0mh\u001b[0m\u001b[0;34m,\u001b[0m \u001b[0mx\u001b[0m\u001b[0;34m:\u001b[0m\u001b[0mx\u001b[0m \u001b[0;34m+\u001b[0m \u001b[0mw\u001b[0m\u001b[0;34m]\u001b[0m\u001b[0;34m\u001b[0m\u001b[0;34m\u001b[0m\u001b[0m\n\u001b[1;32m     31\u001b[0m         \u001b[0mface_resize\u001b[0m \u001b[0;34m=\u001b[0m \u001b[0mcv2\u001b[0m\u001b[0;34m.\u001b[0m\u001b[0mresize\u001b[0m\u001b[0;34m(\u001b[0m\u001b[0mface\u001b[0m\u001b[0;34m,\u001b[0m \u001b[0;34m(\u001b[0m\u001b[0mim_width\u001b[0m\u001b[0;34m,\u001b[0m \u001b[0mim_height\u001b[0m\u001b[0;34m)\u001b[0m\u001b[0;34m)\u001b[0m\u001b[0;34m\u001b[0m\u001b[0;34m\u001b[0m\u001b[0m\n\u001b[0;32m---> 32\u001b[0;31m         pin=sorted([int(n[:n.find('.')]) for n in os.listdir(path)\n\u001b[0m\u001b[1;32m     33\u001b[0m                if n[0]!='.' ]+[0])[-1] + 1\n\u001b[1;32m     34\u001b[0m         \u001b[0mcv2\u001b[0m\u001b[0;34m.\u001b[0m\u001b[0mimwrite\u001b[0m\u001b[0;34m(\u001b[0m\u001b[0;34m'%s/%s.png'\u001b[0m \u001b[0;34m%\u001b[0m \u001b[0;34m(\u001b[0m\u001b[0mpath\u001b[0m\u001b[0;34m,\u001b[0m \u001b[0mpin\u001b[0m\u001b[0;34m)\u001b[0m\u001b[0;34m,\u001b[0m \u001b[0mface_resize\u001b[0m\u001b[0;34m)\u001b[0m\u001b[0;34m\u001b[0m\u001b[0;34m\u001b[0m\u001b[0m\n",
      "\u001b[0;31mFileNotFoundError\u001b[0m: [Errno 2] No such file or directory: '../data/training/-f'"
     ]
    }
   ],
   "source": [
    "# create_database.py\n",
    "import cv2, sys, numpy, os, time\n",
    "count = 0\n",
    "size = 4\n",
    "fn_haar = '../data/haarcascade_frontalface_alt.xml'\n",
    "fn_dir = '../data/training/'\n",
    "fn_name = sys.argv[1]   #name of the person\n",
    "path = os.path.join(fn_dir, fn_name)\n",
    "# if not os.path.isdir(path):\n",
    "#     os.mkdir(path)\n",
    "(im_width, im_height) = (112, 92)\n",
    "haar_cascade = cv2.CascadeClassifier(fn_haar)\n",
    "webcam = cv2.VideoCapture(0)\n",
    "\n",
    "\n",
    "print (\"-----------------------Taking pictures----------------------\")\n",
    "print (\"--------------------Give some expressions---------------------\")\n",
    "# The program loops until it has 20 images of the face.\n",
    "\n",
    "while count < 45:\n",
    "    (rval, im) = webcam.read()\n",
    "    im = cv2.flip(im, 1, 0)\n",
    "    gray = cv2.cvtColor(im, cv2.COLOR_BGR2GRAY)\n",
    "    mini = cv2.resize(gray, (int(gray.shape[1] / size), int(gray.shape[0] / size)))\n",
    "    faces = haar_cascade.detectMultiScale(mini)\n",
    "    faces = sorted(faces, key=lambda x: x[3])\n",
    "    if faces:\n",
    "        face_i = faces[0]\n",
    "        (x, y, w, h) = [v * size for v in face_i]\n",
    "        face = gray[y:y + h, x:x + w]\n",
    "        face_resize = cv2.resize(face, (im_width, im_height))\n",
    "        pin=sorted([int(n[:n.find('.')]) for n in os.listdir(path)\n",
    "               if n[0]!='.' ]+[0])[-1] + 1\n",
    "        cv2.imwrite('%s/%s.png' % (path, pin), face_resize)\n",
    "        cv2.rectangle(im, (x, y), (x + w, y + h), (0, 255, 0), 3)\n",
    "        cv2.putText(im, fn_name, (x - 10, y - 10), cv2.FONT_HERSHEY_PLAIN,\n",
    "            1,(0, 255, 0))\n",
    "    time.sleep(0.38)        \n",
    "    count += 1\n",
    "   \n",
    "    \n",
    "    cv2.imshow('OpenCV', im)\n",
    "    key = cv2.waitKey(10)\n",
    "    if key == 27:\n",
    "        break\n",
    "print(str(count) + \" images taken and saved to \" + fn_name +\" folder in database \")"
   ]
  },
  {
   "cell_type": "code",
   "execution_count": null,
   "metadata": {},
   "outputs": [],
   "source": []
  },
  {
   "cell_type": "code",
   "execution_count": null,
   "metadata": {},
   "outputs": [],
   "source": []
  }
 ],
 "metadata": {
  "kernelspec": {
   "display_name": "Python 3",
   "language": "python",
   "name": "python3"
  },
  "language_info": {
   "codemirror_mode": {
    "name": "ipython",
    "version": 3
   },
   "file_extension": ".py",
   "mimetype": "text/x-python",
   "name": "python",
   "nbconvert_exporter": "python",
   "pygments_lexer": "ipython3",
   "version": "3.7.3"
  }
 },
 "nbformat": 4,
 "nbformat_minor": 2
}
